{
 "cells": [
  {
   "cell_type": "markdown",
   "metadata": {},
   "source": [
    "# Hazard handicap function example\n",
    "\n",
    "This example uses a handicap function and data taken from a [talk by Hazard](https://www.hazardoussoftware.com//docs/christopher-hazard/cjhazard_TGC_2010_04_07.pdf). This example appears on Slide 36.\n",
    "\n",
    "Hazard, C. J. 2010. What every game designer should know about game theory. Triangle Game Conference. Raleigh, North Carolina\n",
    "\n",
    "First, we import the packages we need."
   ]
  },
  {
   "cell_type": "code",
   "execution_count": 1,
   "metadata": {
    "collapsed": true
   },
   "outputs": [],
   "source": [
    "import _initpath\n",
    "import numpy\n",
    "import zerosum.balance"
   ]
  },
  {
   "cell_type": "markdown",
   "metadata": {},
   "source": [
    "Then we take the data as it appeared in Hazard's slides."
   ]
  },
  {
   "cell_type": "code",
   "execution_count": 2,
   "metadata": {
    "collapsed": true
   },
   "outputs": [],
   "source": [
    "data = numpy.array([\n",
    "    [1.0, 3.0, 0.5],\n",
    "    [1.0 / 3.0, 1.0, 0.5],\n",
    "    [2.0, 2.0, 1.0]])\n",
    "names = ['Hammer', 'Spear', 'Curse']"
   ]
  },
  {
   "cell_type": "markdown",
   "metadata": {},
   "source": [
    "Hazard's talk used the convention that the elements of the matrix are how many of the row player's unit it takes to equal one of the column player's unit. We use the opposite convention, so we transpose the input matrix (which is log-skew-symmetric)."
   ]
  },
  {
   "cell_type": "code",
   "execution_count": 3,
   "metadata": {
    "collapsed": true
   },
   "outputs": [],
   "source": [
    "data = data.transpose()"
   ]
  },
  {
   "cell_type": "markdown",
   "metadata": {},
   "source": [
    "Now we can construct our problem instance and solve it."
   ]
  },
  {
   "cell_type": "code",
   "execution_count": 4,
   "metadata": {
    "collapsed": true
   },
   "outputs": [],
   "source": [
    "balance = zerosum.balance.HazardSymmetricBalance(data)\n",
    "result = balance.optimize()"
   ]
  },
  {
   "cell_type": "markdown",
   "metadata": {},
   "source": [
    "Finally we print the result, normalizing the handicaps so that they sum to 1."
   ]
  },
  {
   "cell_type": "code",
   "execution_count": 5,
   "metadata": {},
   "outputs": [
    {
     "name": "stdout",
     "output_type": "stream",
     "text": [
      "  Hammer: 0.255\n",
      "   Spear: 0.545\n",
      "   Curse: 0.200\n"
     ]
    }
   ],
   "source": [
    "for name, handicap in zip(names, result.handicaps / numpy.sum(result.handicaps)):\n",
    "    print(\"%8s: %0.3f\" % (name, handicap))"
   ]
  },
  {
   "cell_type": "markdown",
   "metadata": {},
   "source": [
    "Naturally, this matches the result from the talk."
   ]
  }
 ],
 "metadata": {
  "kernelspec": {
   "display_name": "Python 3",
   "language": "python",
   "name": "python3"
  },
  "language_info": {
   "codemirror_mode": {
    "name": "ipython",
    "version": 3
   },
   "file_extension": ".py",
   "mimetype": "text/x-python",
   "name": "python",
   "nbconvert_exporter": "python",
   "pygments_lexer": "ipython3",
   "version": "3.6.2"
  }
 },
 "nbformat": 4,
 "nbformat_minor": 2
}
